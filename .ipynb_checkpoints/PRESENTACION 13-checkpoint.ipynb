{
 "cells": [
  {
   "cell_type": "markdown",
   "id": "2d56fa5f",
   "metadata": {},
   "source": [
    "# Presentación 13:\n",
    "\n",
    "En esta presentación veremos cómo ajustar y realizar pronósticos con un modelo ARIMA($p$, $d$, $q$) en Python.\n",
    "\n",
    "Antes de comenzar veamos cómo pasar de una sucesión de números a una serie de tiempo introduciendo ruido en la sucesión. Carguemos primero algunos paquetes que necesitaremos más adelante:"
   ]
  },
  {
   "cell_type": "code",
   "execution_count": null,
   "id": "f6cff473",
   "metadata": {},
   "outputs": [],
   "source": [
    "import numpy as np # Para trabajar con vectores y matrices\n",
    "from matplotlib import pyplot as plt # Para graficar\n",
    "import pandas as pd # Para trabajar con bases de datos\n",
    "from statsmodels.tsa.arima.model import ARIMA\n",
    "from statsmodels.tsa.stattools import acf, pacf\n",
    "from statsmodels.graphics.tsaplots import plot_acf, plot_pacf\n",
    "from statsmodels.tsa.stattools import adfuller\n",
    "plt.style.use('fivethirtyeight') # Para dar un estilo distinto a los gráficos"
   ]
  },
  {
   "cell_type": "code",
   "execution_count": null,
   "id": "855b3c43",
   "metadata": {},
   "outputs": [],
   "source": [
    "# Esto es una sucesión NO una serie de tiempo:\n",
    "\n",
    "xt = []  # Lista vacía\n",
    "xt.append(0) # Valor inicial\n",
    "n = 40 # Tamaño de la sucesión\n",
    "\n",
    "for t in range(1, n, 1):\n",
    "    xt.append( 1.4  + 0.6*xt[t-1] ) \n",
    "\n",
    "xt = np.array(xt) # Lo transformamos en vector\n",
    "xt"
   ]
  },
  {
   "cell_type": "code",
   "execution_count": null,
   "id": "39c17014",
   "metadata": {
    "scrolled": true
   },
   "outputs": [],
   "source": [
    "plt.plot(xt, marker=\"o\")"
   ]
  },
  {
   "cell_type": "markdown",
   "id": "fb461070",
   "metadata": {},
   "source": [
    "Introduzcamos un ruido blanco normal con media $0$ y varianza $\\sigma_w^2=1.3^2$ "
   ]
  },
  {
   "cell_type": "code",
   "execution_count": null,
   "id": "6dc0c807",
   "metadata": {},
   "outputs": [],
   "source": [
    "sigma_w = 1.3\n",
    "np.random.seed(324) # Semilla para que obtengan lo mismo en su PC\n",
    "n = 40 # Tamaño de la serie\n",
    "wt = np.random.normal(0, sigma_w, n)\n",
    "wt"
   ]
  },
  {
   "cell_type": "code",
   "execution_count": null,
   "id": "47794107",
   "metadata": {},
   "outputs": [],
   "source": [
    "# Esto SÍ es una serie de tiempo:\n",
    "\n",
    "xt = []  # Lista vacía\n",
    "xt.append(0) # Valor inicial\n",
    "\n",
    "\n",
    "for t in range(1, n, 1):\n",
    "    xt.append( 1.4  + 0.6*xt[t-1] + wt[t]) \n",
    "\n",
    "xt = np.array(xt) # Lo transformamos en vector\n",
    "xt"
   ]
  },
  {
   "cell_type": "code",
   "execution_count": null,
   "id": "60ca2bb5",
   "metadata": {
    "scrolled": true
   },
   "outputs": [],
   "source": [
    "plt.plot(xt, marker=\"o\")"
   ]
  },
  {
   "cell_type": "markdown",
   "id": "577ce64d",
   "metadata": {},
   "source": [
    "__PREGUNTA:__ Si nos dan la serie de tiempo $\\{X_t\\}$ de la línea anterior, ¿cómo procedemos para separar el ruido de la parte deterministica (la sucesión)?\n",
    "\n",
    "Para responder esto, procedamos como lo hemos hecho en el curso:\n",
    "\n",
    "1. Realice los gráficos ACF y PACF para tratar de identificar los órdenes $p$, $d$ y $q$ del modelo ARIMA($p$, $d$, $q$).\n",
    "\n",
    "2. Aplique la prueba de Dickey-Fuller para ver si es necesario tomar diferencias (valor de $d$). \n",
    "\n",
    "3. Aplique varios modelos y use un criterio de selección (AIC, BIC) para seleccionar el \"mejor\".\n",
    "\n",
    "4. Verifique si existe autocorrelación en los residuales del modelo seleccionado utilizando el gráfico ACF y complementando con la prueba de Ljung-Box.\n",
    "\n",
    "5. Verifique si hay normalidad en los residuales del modelo.\n",
    "\n",
    "6. Si todo lo anterior se cumple entonces puede realizar pronósticos con el \"mejor\" modelo ajustado."
   ]
  },
  {
   "cell_type": "markdown",
   "id": "5548c44b",
   "metadata": {},
   "source": [
    "Procedamos entonces:\n",
    "    \n",
    "1. Gráficos ACF y PACF para tratar de identificar los órdenes $p$, $d$ y $q$ del modelo ARIMA($p$, $d$, $q$)."
   ]
  },
  {
   "cell_type": "code",
   "execution_count": null,
   "id": "7de5a560",
   "metadata": {
    "scrolled": false
   },
   "outputs": [],
   "source": [
    "acf(xt, nlags=10)"
   ]
  },
  {
   "cell_type": "code",
   "execution_count": null,
   "id": "cdc884db",
   "metadata": {
    "scrolled": true
   },
   "outputs": [],
   "source": [
    "pacf(xt, method='ywm', nlags=10)"
   ]
  },
  {
   "cell_type": "code",
   "execution_count": null,
   "id": "a930e9af",
   "metadata": {},
   "outputs": [],
   "source": [
    "plot_acf(xt)\n",
    "plt.show()\n",
    "plot_pacf(xt, method='ywm')\n",
    "plt.show()"
   ]
  },
  {
   "cell_type": "markdown",
   "id": "36420457",
   "metadata": {},
   "source": [
    "Según los gráficos el modelo tentativo es un AR(1)."
   ]
  },
  {
   "cell_type": "markdown",
   "id": "132118e2",
   "metadata": {},
   "source": [
    "2. Aplicamos la prueba de Dickey-Fuller:"
   ]
  },
  {
   "cell_type": "code",
   "execution_count": null,
   "id": "10e8b71e",
   "metadata": {
    "scrolled": false
   },
   "outputs": [],
   "source": [
    "adfuller(xt)"
   ]
  },
  {
   "cell_type": "code",
   "execution_count": null,
   "id": "570ad46e",
   "metadata": {},
   "outputs": [],
   "source": [
    "# Para obtener información ejecutamos:\n",
    "adfuller?"
   ]
  },
  {
   "cell_type": "markdown",
   "id": "6d8136f6",
   "metadata": {},
   "source": [
    "El p-valor es:\n",
    "    "
   ]
  },
  {
   "cell_type": "code",
   "execution_count": null,
   "id": "a4980710",
   "metadata": {},
   "outputs": [],
   "source": [
    "adfuller(xt)[1]"
   ]
  },
  {
   "cell_type": "markdown",
   "id": "62a0a353",
   "metadata": {},
   "source": [
    "Aceptamos la hipótesis nula de que existe una raíz nula, lo cual indica que debemos tomar una diferencia. Sin embargo, no lo haremos en este caso ya que sabemos que estamos simulando un AR(1)."
   ]
  },
  {
   "cell_type": "markdown",
   "id": "27734f2b",
   "metadata": {},
   "source": [
    "3. Aplicamos varios modelos:"
   ]
  },
  {
   "cell_type": "code",
   "execution_count": null,
   "id": "2eaf27f5",
   "metadata": {},
   "outputs": [],
   "source": [
    "modelo1 = ARIMA(xt, order=(1,0,0)).fit()\n",
    "modelo2 = ARIMA(xt, order=(2,0,0)).fit() \n",
    "modelo3 = ARIMA(xt, order=(1,0,1)).fit() "
   ]
  },
  {
   "cell_type": "code",
   "execution_count": null,
   "id": "38afc7c4",
   "metadata": {},
   "outputs": [],
   "source": [
    "modelo1.summary()"
   ]
  },
  {
   "cell_type": "code",
   "execution_count": null,
   "id": "0190e7fc",
   "metadata": {},
   "outputs": [],
   "source": [
    "modelo2.summary()"
   ]
  },
  {
   "cell_type": "code",
   "execution_count": null,
   "id": "34b4dc13",
   "metadata": {
    "scrolled": true
   },
   "outputs": [],
   "source": [
    "modelo3.summary()"
   ]
  },
  {
   "cell_type": "markdown",
   "id": "dd2b7b7b",
   "metadata": {},
   "source": [
    "Como era de esperarse, según los AIC y BIC, el \"mejor\" modelo es el __modelo1__. Los coeficientes estimados son:"
   ]
  },
  {
   "cell_type": "code",
   "execution_count": null,
   "id": "f02294f6",
   "metadata": {
    "scrolled": true
   },
   "outputs": [],
   "source": [
    "modelo1.summary().tables[1]"
   ]
  },
  {
   "cell_type": "markdown",
   "id": "44308d2b",
   "metadata": {},
   "source": [
    "Vemos que los parámetros del intercepto es $\\widehat{\\mu}=3.8085$, de donde, $\\widehat{\\phi}_0=\\widehat{\\mu}*(1-\\widehat{\\phi}_1)=3.8085*(1-0.7965)=0.775$,  $\\widehat{\\phi}_1=0.7965$, son las estimaciones de $\\phi_0=1.4$, $\\phi_1=0.6$ (¿será que si aumentamos el tamaño de muestra $n$ se parecen más?). La varianza del ruido blanco es $\\sigma_w^2=1.3^2=1.69$ y su estimador es igual a $\\widehat{\\sigma}_w^2=1.7246$"
   ]
  },
  {
   "cell_type": "markdown",
   "id": "d0f9ca0b",
   "metadata": {},
   "source": [
    "4. Observando las Pruebas de Ljung Box y Jarque-Bera del __modelo1__, los p-valores son iguales a 0.88 ($H_0$: autocorrelación nula) y 0.54 ($H_0$: Normalidad), corroboran que los residuales son no correlacionados y tienen distribución normal con un nivel de confianza del 95%."
   ]
  },
  {
   "cell_type": "markdown",
   "id": "12baa724",
   "metadata": {},
   "source": [
    "5. Realizamos un diagnóstico de los residuales:"
   ]
  },
  {
   "cell_type": "code",
   "execution_count": null,
   "id": "4cd61673",
   "metadata": {
    "scrolled": true
   },
   "outputs": [],
   "source": [
    "modelo1.plot_diagnostics(figsize=(15, 12))\n",
    "plt.show()"
   ]
  },
  {
   "cell_type": "markdown",
   "id": "9a84b914",
   "metadata": {},
   "source": [
    "Como era de esperarse los residuales son no correlacionados (se ve en el gráfico de la ACF con todos los valores dentro de la banda de confianza), oscilan alrededor del cero con varianza constante (primer gráfico) y se observa gráficamente que siguen una distribución normal."
   ]
  },
  {
   "cell_type": "markdown",
   "id": "80dd8b87",
   "metadata": {},
   "source": [
    "6. Realizamos entonces pronósticos. Existen dos funciones o procesos: __get_prediction__ (permite hacer predicciones de toda la serie y del futuro de la misma desde un punto inicial hasta un punto final) y __get_forecast__ (solo permite realizar predicciones futuras). En escencia el  __get_forecast__ es un caso particular del __get_prediction__."
   ]
  },
  {
   "cell_type": "code",
   "execution_count": null,
   "id": "67775d85",
   "metadata": {},
   "outputs": [],
   "source": [
    "pred.conf_int?"
   ]
  },
  {
   "cell_type": "code",
   "execution_count": null,
   "id": "9e4acfdf",
   "metadata": {
    "scrolled": true
   },
   "outputs": [],
   "source": [
    "pred = modelo1.get_prediction(start=40, end=45, dynamic=False) # dynamic=False evita que las predicciones futuras\n",
    "                                                               # se conviertan en datos de la muestra para predicciones \n",
    "                                                               # que van más adelante.\n",
    "pred_ci = pred.conf_int(alpha=0.05) # Intervalo de confianza \n",
    "pred_ci"
   ]
  },
  {
   "cell_type": "code",
   "execution_count": null,
   "id": "0ac41019",
   "metadata": {},
   "outputs": [],
   "source": [
    "pred.predicted_mean # Valores predichos a futuro."
   ]
  },
  {
   "cell_type": "code",
   "execution_count": null,
   "id": "dbff6478",
   "metadata": {},
   "outputs": [],
   "source": [
    "fore = modelo1.get_forecast(6) # Obtenemos lo mismo que con el proceso anterior\n",
    "fore_ci = fore.conf_int()\n",
    "fore_ci"
   ]
  },
  {
   "cell_type": "code",
   "execution_count": null,
   "id": "827e76bb",
   "metadata": {},
   "outputs": [],
   "source": [
    "fore.predicted_mean # Valores predichos a futuro."
   ]
  },
  {
   "cell_type": "code",
   "execution_count": null,
   "id": "cfaf496c",
   "metadata": {},
   "outputs": [],
   "source": [
    "xt_pred = np.concatenate((xt, fore.predicted_mean)) # Adicionamos a la serie original las predicciones.\n",
    "xt_pred"
   ]
  },
  {
   "cell_type": "code",
   "execution_count": null,
   "id": "a0639d66",
   "metadata": {},
   "outputs": [],
   "source": [
    "xt_pred[40:46]"
   ]
  },
  {
   "cell_type": "code",
   "execution_count": null,
   "id": "2228af1a",
   "metadata": {},
   "outputs": [],
   "source": [
    "plt.figure(figsize=(16,8))  #  Graficamos:\n",
    "plt.plot(xt_pred, marker=\"o\")\n",
    "plt.plot(range(40,46,1),xt_pred[40:46], marker=\"o\")\n",
    "plt.plot(range(40,46,1), pred_ci[:,0], marker=\"o\", color=\"green\")\n",
    "plt.plot(range(40,46,1), pred_ci[:,1], marker=\"o\", color=\"green\")\n",
    "plt.show()"
   ]
  },
  {
   "cell_type": "markdown",
   "id": "b785191f",
   "metadata": {},
   "source": [
    "## Incrementemos el tamaño de muestra:\n",
    "\n",
    "Pasemos de $n=40$ a $n=200$:"
   ]
  },
  {
   "cell_type": "code",
   "execution_count": null,
   "id": "ef312d0e",
   "metadata": {},
   "outputs": [],
   "source": [
    "sigma_w = 1.3\n",
    "np.random.seed(65456) # Semilla para que obtengan lo mismo en su PC\n",
    "n = 200 # Tamaño de la serie\n",
    "wt = np.random.normal(0, sigma_w, n)\n",
    "xt = []  # Lista vacía\n",
    "xt.append(0) # Valor inicial\n",
    "\n",
    "for t in range(1, n, 1):\n",
    "    xt.append( 1.4  + 0.6*xt[t-1] + wt[t]) \n",
    "\n",
    "xt = np.array(xt) # Lo transformamos en vector\n",
    "\n",
    "plt.plot(xt, marker=\"o\")"
   ]
  },
  {
   "cell_type": "code",
   "execution_count": null,
   "id": "ab965da2",
   "metadata": {},
   "outputs": [],
   "source": [
    "plot_acf(xt)\n",
    "plt.show()\n",
    "plot_pacf(xt, method='ywm')\n",
    "plt.show()"
   ]
  },
  {
   "cell_type": "code",
   "execution_count": null,
   "id": "057d94e0",
   "metadata": {
    "scrolled": true
   },
   "outputs": [],
   "source": [
    "adfuller(xt)"
   ]
  },
  {
   "cell_type": "markdown",
   "id": "09860f58",
   "metadata": {},
   "source": [
    "Con este p-valor=4.293377833514544e-05 rechazamos ahora la hipótesis nula con un nivel de confianza del 95% y nos quedamos con la alternativa: $H_a$: No hay raíces unitarias. __NOTE QUE:__ Con un tamaño de muestra mayor, el proceso simulado AR(1), con los parámetros seleccionados para que fuera estacionario, efectivamente resultó serlo. En general, en series de tiempo se requiere tener una cantidad suficiente de información para obtener inferencias correctas."
   ]
  },
  {
   "cell_type": "code",
   "execution_count": null,
   "id": "5a9323db",
   "metadata": {},
   "outputs": [],
   "source": [
    "modelo1b = ARIMA(xt, order=(1,0,0)).fit()\n",
    "modelo1b.summary()"
   ]
  },
  {
   "cell_type": "markdown",
   "id": "624f06ed",
   "metadata": {},
   "source": [
    "__NOTE QUE:__ Con aumentar el tamaño de muestra de $n=40$ a $n=200$, las estimaciones del intercepto es $\\widehat{\\mu}=3.6591$, de donde, $\\widehat{\\phi}_0=\\widehat{\\mu}*(1-\\widehat{\\phi}_1)=3.6591*(1-0.5762)=1.551$,  $\\widehat{\\phi}_1=0.5762$, son las estimaciones de $\\phi_0=1.4$, $\\phi_1=0.6$. La varianza del ruido blanco es $\\sigma_w^2=1.3^2=1.69$ y su estimador es igual a $\\widehat{\\sigma}_w^2=1.7275$. Con una serie mayor, mayor es la información y por tanto, la estimación de los parámetros reales mejora."
   ]
  },
  {
   "cell_type": "markdown",
   "id": "f4014938",
   "metadata": {},
   "source": [
    "# Trabajemos ahora con una serie de tiempo real:\n",
    "\n",
    "Analicemos en Python los datos relacionados con la Tasa Representativa del Mercado (TRM)."
   ]
  },
  {
   "cell_type": "code",
   "execution_count": null,
   "id": "f23afced",
   "metadata": {},
   "outputs": [],
   "source": [
    "from datetime import datetime # Módulo para dar formato a las fechas\n",
    "dateparse = lambda x: datetime.strptime(x, '%d/%m/%Y') # Función auxiliar para dar formato a fechas\n",
    "\n",
    "trm = pd.read_csv(\"../../DATOS/trm_historico.csv\", parse_dates=['VIGENCIADESDE', 'VIGENCIAHASTA'], date_parser=dateparse)"
   ]
  },
  {
   "cell_type": "code",
   "execution_count": null,
   "id": "5b341e39",
   "metadata": {
    "scrolled": true
   },
   "outputs": [],
   "source": [
    "trm.head()"
   ]
  },
  {
   "cell_type": "code",
   "execution_count": null,
   "id": "924bf362",
   "metadata": {
    "scrolled": false
   },
   "outputs": [],
   "source": [
    "trm.tail()"
   ]
  },
  {
   "cell_type": "code",
   "execution_count": null,
   "id": "5698f38d",
   "metadata": {},
   "outputs": [],
   "source": [
    "trm.sort_values(by=\"VIGENCIADESDE\", inplace=True) # Ordenar por VIGENCIADESDE"
   ]
  },
  {
   "cell_type": "code",
   "execution_count": null,
   "id": "f2374092",
   "metadata": {},
   "outputs": [],
   "source": [
    "trm.dtypes"
   ]
  },
  {
   "cell_type": "markdown",
   "id": "15285533",
   "metadata": {},
   "source": [
    "Podemos extraer días, meses, años, etc. de las fechas:"
   ]
  },
  {
   "cell_type": "code",
   "execution_count": null,
   "id": "2cc6ce50",
   "metadata": {},
   "outputs": [],
   "source": [
    "trm[\"dia\"] = pd.DatetimeIndex(trm[\"VIGENCIADESDE\"]).day\n",
    "trm[\"dia_sem\"] = pd.DatetimeIndex(trm[\"VIGENCIADESDE\"]).weekday # 0 es lunes, 1 es martes, ...,  domingo es 6\n",
    "# Podemos cambiarlo con:\n",
    "dia_aux1 = trm.dia_sem.unique() # Solo hay valores de 0 a 5\n",
    "dia_aux2 = [\"Lunes\", \"Martes\", \"Miércoles\", \"Jueves\", \"Viernes\", \"Sábado\"] # Solo hay días de lunes a sábado\n",
    "\n",
    "trm.dia_sem.replace(to_replace=dia_aux1, value=dia_aux2, inplace=True)\n",
    "trm[\"mes\"] = pd.DatetimeIndex(trm[\"VIGENCIADESDE\"]).month\n",
    "trm[\"year\"] = pd.DatetimeIndex(trm[\"VIGENCIADESDE\"]).year"
   ]
  },
  {
   "cell_type": "code",
   "execution_count": null,
   "id": "f6ece907",
   "metadata": {},
   "outputs": [],
   "source": [
    "trm.set_index(\"VIGENCIADESDE\", inplace=True)"
   ]
  },
  {
   "cell_type": "code",
   "execution_count": null,
   "id": "3fc07eba",
   "metadata": {},
   "outputs": [],
   "source": [
    "trm_aux = trm[[\"VALOR\"]].squeeze(\"columns\")\n",
    "trm_aux"
   ]
  },
  {
   "cell_type": "code",
   "execution_count": null,
   "id": "872b8e54",
   "metadata": {},
   "outputs": [],
   "source": [
    "trm_aux.plot(figsize=(15, 6))\n",
    "plt.show()"
   ]
  },
  {
   "cell_type": "code",
   "execution_count": null,
   "id": "fb634887",
   "metadata": {
    "scrolled": true
   },
   "outputs": [],
   "source": [
    "acf(trm_aux)"
   ]
  },
  {
   "cell_type": "code",
   "execution_count": null,
   "id": "59fbc2e9",
   "metadata": {
    "scrolled": false
   },
   "outputs": [],
   "source": [
    "plot_acf(trm_aux)\n",
    "plt.show()"
   ]
  },
  {
   "cell_type": "code",
   "execution_count": null,
   "id": "d05d5045",
   "metadata": {},
   "outputs": [],
   "source": [
    "pacf(trm_aux, method=\"ywm\")"
   ]
  },
  {
   "cell_type": "code",
   "execution_count": null,
   "id": "deb4bdc8",
   "metadata": {
    "scrolled": false
   },
   "outputs": [],
   "source": [
    "plot_pacf(trm_aux, method=\"ywm\")\n",
    "plt.show()"
   ]
  },
  {
   "cell_type": "code",
   "execution_count": null,
   "id": "f5144ece",
   "metadata": {
    "scrolled": false
   },
   "outputs": [],
   "source": [
    "adfuller(trm_aux)"
   ]
  },
  {
   "cell_type": "markdown",
   "id": "be25ef1b",
   "metadata": {},
   "source": [
    "Como el p-valor=0.9343293479786797 > 0.05=$\\alpha$ entonces nos quedamos con la hipótesis nula $H_0:$ Existe una raíz unitaria. Esto implica que debemos tomar una diferencia:"
   ]
  },
  {
   "cell_type": "code",
   "execution_count": null,
   "id": "672c7563",
   "metadata": {},
   "outputs": [],
   "source": [
    "trm_aux_dif = trm_aux.diff()"
   ]
  },
  {
   "cell_type": "code",
   "execution_count": null,
   "id": "1c09af94",
   "metadata": {},
   "outputs": [],
   "source": [
    "trm_aux_dif.dropna(inplace=True)"
   ]
  },
  {
   "cell_type": "code",
   "execution_count": null,
   "id": "26b46fb3",
   "metadata": {
    "scrolled": false
   },
   "outputs": [],
   "source": [
    "adfuller(trm_aux_dif)"
   ]
  },
  {
   "cell_type": "markdown",
   "id": "e5ea0b40",
   "metadata": {},
   "source": [
    "Como el p-valor=2.905813432233147e-27 < 0.05=$\\alpha$ entonces nos quedamos con la hipótesis alternativa $H_a:$ No existe una raíz unitaria. Esto implica que no debemos tomar una segunda diferencia y el parámetro d=1 en el modelo ARIMA(p, d, q). "
   ]
  },
  {
   "cell_type": "code",
   "execution_count": null,
   "id": "e9c728bd",
   "metadata": {
    "scrolled": true
   },
   "outputs": [],
   "source": [
    "trm_aux_dif.plot(figsize=(15, 6))\n",
    "plt.show()"
   ]
  },
  {
   "cell_type": "code",
   "execution_count": null,
   "id": "45c46e6c",
   "metadata": {
    "scrolled": false
   },
   "outputs": [],
   "source": [
    "acf(trm_aux_dif)"
   ]
  },
  {
   "cell_type": "code",
   "execution_count": null,
   "id": "c9c717c3",
   "metadata": {
    "scrolled": true
   },
   "outputs": [],
   "source": [
    "plot_acf(trm_aux_dif)\n",
    "plt.show()"
   ]
  },
  {
   "cell_type": "code",
   "execution_count": null,
   "id": "ccb00770",
   "metadata": {
    "scrolled": true
   },
   "outputs": [],
   "source": [
    "pacf(trm_aux_dif, method=\"ywm\")"
   ]
  },
  {
   "cell_type": "code",
   "execution_count": null,
   "id": "1551131c",
   "metadata": {
    "scrolled": true
   },
   "outputs": [],
   "source": [
    "plot_pacf(trm_aux_dif, method=\"ywm\")\n",
    "plt.show()"
   ]
  },
  {
   "cell_type": "markdown",
   "id": "dafe516f",
   "metadata": {},
   "source": [
    "Proponemos varios modelos:"
   ]
  },
  {
   "cell_type": "code",
   "execution_count": null,
   "id": "b70261b4",
   "metadata": {
    "scrolled": true
   },
   "outputs": [],
   "source": [
    "modelo_trm1 = ARIMA(trm_aux, order=(1,1,0)).fit()\n",
    "modelo_trm2 = ARIMA(trm_aux, order=(0,1,1)).fit()\n",
    "modelo_trm3 = ARIMA(trm_aux, order=(1,1,1)).fit()"
   ]
  },
  {
   "cell_type": "code",
   "execution_count": null,
   "id": "7c7f1dfa",
   "metadata": {
    "scrolled": false
   },
   "outputs": [],
   "source": [
    "modelo_trm1.summary()"
   ]
  },
  {
   "cell_type": "code",
   "execution_count": null,
   "id": "0f98cbcd",
   "metadata": {},
   "outputs": [],
   "source": [
    "modelo_trm2.summary()"
   ]
  },
  {
   "cell_type": "code",
   "execution_count": null,
   "id": "1a8f779a",
   "metadata": {
    "scrolled": true
   },
   "outputs": [],
   "source": [
    "modelo_trm3.summary()"
   ]
  },
  {
   "cell_type": "markdown",
   "id": "ee623b96",
   "metadata": {},
   "source": [
    "Aparentemente, el __modelo_trm1__ es el \"mejor\" entre los modelos ajustados, ya que tiene el menor AIC y BIC. A pesar de esto, el test de Jarque-Bera muestra que no hay normalidad en los residuales, a pesar de que el test de Ljung-Box sí evidencia no autocorrelación. La no-normalidad se confirma con el diagnóstico del modelo:"
   ]
  },
  {
   "cell_type": "code",
   "execution_count": null,
   "id": "60db9f89",
   "metadata": {
    "scrolled": false
   },
   "outputs": [],
   "source": [
    "modelo_trm1.plot_diagnostics(figsize=(15, 12))\n",
    "plt.show()"
   ]
  },
  {
   "cell_type": "markdown",
   "id": "0267012c",
   "metadata": {},
   "source": [
    "## Filtremos los datos de TRM solo al año 2021:"
   ]
  },
  {
   "cell_type": "code",
   "execution_count": null,
   "id": "9df14e78",
   "metadata": {},
   "outputs": [],
   "source": [
    "trm_2021 = trm.query(\"year==2021\")"
   ]
  },
  {
   "cell_type": "code",
   "execution_count": null,
   "id": "c44f7e16",
   "metadata": {},
   "outputs": [],
   "source": [
    "trm_2021_aux = trm_2021[[\"VALOR\"]]\n",
    "#trm_2021_aux = trm_2021[[\"VALOR\"]].squeeze(\"columns\")\n",
    "#trm_2021_aux.index = trm_2021_aux.index.to_period(freq='D')"
   ]
  },
  {
   "cell_type": "code",
   "execution_count": null,
   "id": "58c7d4b8",
   "metadata": {},
   "outputs": [],
   "source": [
    "trm_2021_aux"
   ]
  },
  {
   "cell_type": "code",
   "execution_count": null,
   "id": "cac97bb3",
   "metadata": {
    "scrolled": true
   },
   "outputs": [],
   "source": [
    "trm_2021_aux.plot(figsize=(15, 6))\n",
    "plt.show()"
   ]
  },
  {
   "cell_type": "code",
   "execution_count": null,
   "id": "b0550831",
   "metadata": {
    "scrolled": false
   },
   "outputs": [],
   "source": [
    "adfuller(trm_2021_aux)"
   ]
  },
  {
   "cell_type": "code",
   "execution_count": null,
   "id": "30d53002",
   "metadata": {},
   "outputs": [],
   "source": [
    "adfuller(trm_2021_aux.diff().dropna())"
   ]
  },
  {
   "cell_type": "code",
   "execution_count": null,
   "id": "fcee0494",
   "metadata": {
    "scrolled": true
   },
   "outputs": [],
   "source": [
    "plot_acf(trm_2021_aux.diff().dropna())\n",
    "plt.show()\n",
    "plot_pacf(trm_2021_aux.diff().dropna(), method='ywm')\n",
    "plt.show()"
   ]
  },
  {
   "cell_type": "markdown",
   "id": "f1971020",
   "metadata": {},
   "source": [
    "Redefinimos los indices para ajustar el modelo ARIMA:"
   ]
  },
  {
   "cell_type": "code",
   "execution_count": null,
   "id": "26a2760c",
   "metadata": {},
   "outputs": [],
   "source": [
    "trm_2021_aux.reset_index(inplace=True)\n",
    "trm_2021_aux"
   ]
  },
  {
   "cell_type": "code",
   "execution_count": null,
   "id": "57e25ac6",
   "metadata": {
    "scrolled": true
   },
   "outputs": [],
   "source": [
    "modelo_trm_2021 = ARIMA(trm_2021_aux[\"VALOR\"], order=(1,1,0)).fit()\n",
    "modelo_trm_2021.summary()"
   ]
  },
  {
   "cell_type": "code",
   "execution_count": null,
   "id": "4f102523",
   "metadata": {
    "scrolled": false
   },
   "outputs": [],
   "source": [
    "modelo_trm_2021.plot_diagnostics(figsize=(15, 12))\n",
    "plt.show()"
   ]
  },
  {
   "cell_type": "code",
   "execution_count": null,
   "id": "719ac8e1",
   "metadata": {
    "scrolled": true
   },
   "outputs": [],
   "source": [
    "trm_2021_aux.reset_index(inplace=True)"
   ]
  },
  {
   "cell_type": "code",
   "execution_count": null,
   "id": "017df5f2",
   "metadata": {
    "scrolled": false
   },
   "outputs": [],
   "source": [
    "fore = modelo_trm_2021.get_forecast(8)\n",
    "fore_ci = fore.conf_int()\n",
    "fore_ci"
   ]
  },
  {
   "cell_type": "code",
   "execution_count": null,
   "id": "8b72532b",
   "metadata": {
    "scrolled": true
   },
   "outputs": [],
   "source": [
    "fore.predicted_mean"
   ]
  },
  {
   "cell_type": "code",
   "execution_count": null,
   "id": "859a49db",
   "metadata": {
    "scrolled": true
   },
   "outputs": [],
   "source": [
    "trm_2021_pred = np.concatenate((trm_2021_aux[\"VALOR\"], fore.predicted_mean)) # Adicionamos a la serie original las predicciones.\n",
    "trm_2021_pred[238:246]"
   ]
  },
  {
   "cell_type": "code",
   "execution_count": null,
   "id": "e7d3da7f",
   "metadata": {
    "scrolled": false
   },
   "outputs": [],
   "source": [
    "plt.figure(figsize=(16,8))  #  Graficamos:\n",
    "plt.plot(trm_2021_pred, marker=\"o\")\n",
    "plt.plot(range(238, 246,1),trm_2021_pred[238:246], marker=\"o\")\n",
    "plt.plot(range(238, 246,1), fore_ci.iloc[:,0], marker=\"o\", color=\"green\") # Debemos usar .iloc porque fore_ci es un data frame\n",
    "plt.plot(range(238, 246,1), fore_ci.iloc[:,1], marker=\"o\", color=\"green\") # Debemos usar .iloc porque fore_ci es un data frame\n",
    "plt.show()"
   ]
  }
 ],
 "metadata": {
  "hide_input": false,
  "kernelspec": {
   "display_name": "Python 3 (ipykernel)",
   "language": "python",
   "name": "python3"
  },
  "language_info": {
   "codemirror_mode": {
    "name": "ipython",
    "version": 3
   },
   "file_extension": ".py",
   "mimetype": "text/x-python",
   "name": "python",
   "nbconvert_exporter": "python",
   "pygments_lexer": "ipython3",
   "version": "3.10.6"
  },
  "toc": {
   "base_numbering": 1,
   "nav_menu": {},
   "number_sections": true,
   "sideBar": true,
   "skip_h1_title": false,
   "title_cell": "Table of Contents",
   "title_sidebar": "Contents",
   "toc_cell": false,
   "toc_position": {},
   "toc_section_display": true,
   "toc_window_display": false
  },
  "varInspector": {
   "cols": {
    "lenName": 16,
    "lenType": 16,
    "lenVar": 40
   },
   "kernels_config": {
    "python": {
     "delete_cmd_postfix": "",
     "delete_cmd_prefix": "del ",
     "library": "var_list.py",
     "varRefreshCmd": "print(var_dic_list())"
    },
    "r": {
     "delete_cmd_postfix": ") ",
     "delete_cmd_prefix": "rm(",
     "library": "var_list.r",
     "varRefreshCmd": "cat(var_dic_list()) "
    }
   },
   "types_to_exclude": [
    "module",
    "function",
    "builtin_function_or_method",
    "instance",
    "_Feature"
   ],
   "window_display": false
  }
 },
 "nbformat": 4,
 "nbformat_minor": 5
}
